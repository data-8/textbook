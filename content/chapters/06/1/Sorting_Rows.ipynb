{
 "cells": [
  {
   "cell_type": "code",
   "execution_count": 1,
   "metadata": {
    "collapsed": true,
    "tags": [
     "remove_cell"
    ]
   },
   "outputs": [],
   "source": [
    "from datascience import *\n",
    "import numpy as np\n",
    "path_data = '../../../../data/'\n",
    "np.set_printoptions(threshold=50)"
   ]
  },
  {
   "cell_type": "markdown",
   "metadata": {},
   "source": [
    "# Sorting Rows\n",
    "\n",
    "\"The NBA is the highest paying professional sports league in the world,\" [reported CNN](http://edition.cnn.com/2015/12/04/sport/gallery/highest-paid-nba-players/) in March 2016. The table `nba_salaries` contains the salaries of all National Basketball Association players in 2015-2016.\n",
    "\n",
    "Each row represents one player. The columns are:\n",
    "\n",
    "| **Column Label**   | Description                                         |\n",
    "|--------------------|-----------------------------------------------------|\n",
    "| `PLAYER`           | Player's name                                       |\n",
    "| `POSITION`         | Player's position on team                           |\n",
    "| `TEAM`             | Team name                                           |\n",
    "|`'15-'16 SALARY`    | Player's salary in 2015-2016, in millions of dollars|\n",
    " \n",
    "The code for the positions is PG (Point Guard), SG (Shooting Guard), PF (Power Forward), SF (Small Forward), and C (Center). But what follows doesn't involve details about how basketball is played.\n",
    "\n",
    "The first row shows that Paul Millsap, Power Forward for the Atlanta Hawks, had a salary of almost $\\$18.7$ million in 2015-2016."
   ]
  },
  {
   "cell_type": "code",
   "execution_count": 2,
   "metadata": {
    "collapsed": false
   },
   "outputs": [
    {
     "data": {
      "text/html": [
       "<table border=\"1\" class=\"dataframe\">\n",
       "    <thead>\n",
       "        <tr>\n",
       "            <th>PLAYER</th> <th>POSITION</th> <th>TEAM</th> <th>'15-'16 SALARY</th>\n",
       "        </tr>\n",
       "    </thead>\n",
       "    <tbody>\n",
       "        <tr>\n",
       "            <td>Paul Millsap    </td> <td>PF      </td> <td>Atlanta Hawks</td> <td>18.6717       </td>\n",
       "        </tr>\n",
       "        <tr>\n",
       "            <td>Al Horford      </td> <td>C       </td> <td>Atlanta Hawks</td> <td>12            </td>\n",
       "        </tr>\n",
       "        <tr>\n",
       "            <td>Tiago Splitter  </td> <td>C       </td> <td>Atlanta Hawks</td> <td>9.75625       </td>\n",
       "        </tr>\n",
       "        <tr>\n",
       "            <td>Jeff Teague     </td> <td>PG      </td> <td>Atlanta Hawks</td> <td>8             </td>\n",
       "        </tr>\n",
       "        <tr>\n",
       "            <td>Kyle Korver     </td> <td>SG      </td> <td>Atlanta Hawks</td> <td>5.74648       </td>\n",
       "        </tr>\n",
       "        <tr>\n",
       "            <td>Thabo Sefolosha </td> <td>SF      </td> <td>Atlanta Hawks</td> <td>4             </td>\n",
       "        </tr>\n",
       "        <tr>\n",
       "            <td>Mike Scott      </td> <td>PF      </td> <td>Atlanta Hawks</td> <td>3.33333       </td>\n",
       "        </tr>\n",
       "        <tr>\n",
       "            <td>Kent Bazemore   </td> <td>SF      </td> <td>Atlanta Hawks</td> <td>2             </td>\n",
       "        </tr>\n",
       "        <tr>\n",
       "            <td>Dennis Schroder </td> <td>PG      </td> <td>Atlanta Hawks</td> <td>1.7634        </td>\n",
       "        </tr>\n",
       "        <tr>\n",
       "            <td>Tim Hardaway Jr.</td> <td>SG      </td> <td>Atlanta Hawks</td> <td>1.30452       </td>\n",
       "        </tr>\n",
       "    </tbody>\n",
       "</table>\n",
       "<p>... (407 rows omitted)</p>"
      ],
      "text/plain": [
       "PLAYER           | POSITION | TEAM          | '15-'16 SALARY\n",
       "Paul Millsap     | PF       | Atlanta Hawks | 18.6717\n",
       "Al Horford       | C        | Atlanta Hawks | 12\n",
       "Tiago Splitter   | C        | Atlanta Hawks | 9.75625\n",
       "Jeff Teague      | PG       | Atlanta Hawks | 8\n",
       "Kyle Korver      | SG       | Atlanta Hawks | 5.74648\n",
       "Thabo Sefolosha  | SF       | Atlanta Hawks | 4\n",
       "Mike Scott       | PF       | Atlanta Hawks | 3.33333\n",
       "Kent Bazemore    | SF       | Atlanta Hawks | 2\n",
       "Dennis Schroder  | PG       | Atlanta Hawks | 1.7634\n",
       "Tim Hardaway Jr. | SG       | Atlanta Hawks | 1.30452\n",
       "... (407 rows omitted)"
      ]
     },
     "execution_count": 2,
     "metadata": {},
     "output_type": "execute_result"
    }
   ],
   "source": [
    "# This table can be found online: https://www.statcrunch.com/app/index.php?dataid=1843341\n",
    "nba_salaries = Table.read_table(path_data + 'nba_salaries.csv')\n",
    "nba_salaries"
   ]
  },
  {
   "cell_type": "markdown",
   "metadata": {},
   "source": [
    "The table contains 417 rows, one for each player. Only 10 of the rows are displayed. The `show` method allows us to specify the number of rows, with the default (no specification) being all the rows of the table."
   ]
  },
  {
   "cell_type": "code",
   "execution_count": 3,
   "metadata": {
    "collapsed": false
   },
   "outputs": [
    {
     "data": {
      "text/html": [
       "<table border=\"1\" class=\"dataframe\">\n",
       "    <thead>\n",
       "        <tr>\n",
       "            <th>PLAYER</th> <th>POSITION</th> <th>TEAM</th> <th>'15-'16 SALARY</th>\n",
       "        </tr>\n",
       "    </thead>\n",
       "    <tbody>\n",
       "        <tr>\n",
       "            <td>Paul Millsap  </td> <td>PF      </td> <td>Atlanta Hawks</td> <td>18.6717       </td>\n",
       "        </tr>\n",
       "        <tr>\n",
       "            <td>Al Horford    </td> <td>C       </td> <td>Atlanta Hawks</td> <td>12            </td>\n",
       "        </tr>\n",
       "        <tr>\n",
       "            <td>Tiago Splitter</td> <td>C       </td> <td>Atlanta Hawks</td> <td>9.75625       </td>\n",
       "        </tr>\n",
       "    </tbody>\n",
       "</table>\n",
       "<p>... (414 rows omitted)</p>"
      ],
      "text/plain": [
       "<IPython.core.display.HTML object>"
      ]
     },
     "metadata": {},
     "output_type": "display_data"
    }
   ],
   "source": [
    "nba_salaries.show(3)"
   ]
  },
  {
   "cell_type": "markdown",
   "metadata": {},
   "source": [
    "Glance through about 20 rows or so, and you will see that the rows are in alphabetical order by team name. It's also possible to list the same rows in alphabetical order by player name using the `sort` method. The argument to `sort` is a column label or index."
   ]
  },
  {
   "cell_type": "code",
   "execution_count": 4,
   "metadata": {
    "collapsed": false
   },
   "outputs": [
    {
     "data": {
      "text/html": [
       "<table border=\"1\" class=\"dataframe\">\n",
       "    <thead>\n",
       "        <tr>\n",
       "            <th>PLAYER</th> <th>POSITION</th> <th>TEAM</th> <th>'15-'16 SALARY</th>\n",
       "        </tr>\n",
       "    </thead>\n",
       "    <tbody>\n",
       "        <tr>\n",
       "            <td>Aaron Brooks  </td> <td>PG      </td> <td>Chicago Bulls         </td> <td>2.25          </td>\n",
       "        </tr>\n",
       "        <tr>\n",
       "            <td>Aaron Gordon  </td> <td>PF      </td> <td>Orlando Magic         </td> <td>4.17168       </td>\n",
       "        </tr>\n",
       "        <tr>\n",
       "            <td>Aaron Harrison</td> <td>SG      </td> <td>Charlotte Hornets     </td> <td>0.525093      </td>\n",
       "        </tr>\n",
       "        <tr>\n",
       "            <td>Adreian Payne </td> <td>PF      </td> <td>Minnesota Timberwolves</td> <td>1.93884       </td>\n",
       "        </tr>\n",
       "        <tr>\n",
       "            <td>Al Horford    </td> <td>C       </td> <td>Atlanta Hawks         </td> <td>12            </td>\n",
       "        </tr>\n",
       "    </tbody>\n",
       "</table>\n",
       "<p>... (412 rows omitted)</p>"
      ],
      "text/plain": [
       "<IPython.core.display.HTML object>"
      ]
     },
     "metadata": {},
     "output_type": "display_data"
    }
   ],
   "source": [
    "nba_salaries.sort('PLAYER').show(5)"
   ]
  },
  {
   "cell_type": "markdown",
   "metadata": {},
   "source": [
    "To examine the players' salaries, it would be much more helpful if the data were ordered by salary.\n",
    "\n",
    "To do this, we will first simplify the label of the column of salaries (just for convenience), and then sort by the new label `SALARY`. \n",
    "\n",
    "This arranges all the rows of the table in *increasing* order of salary, with the lowest salary appearing first. The output is a new table with the same columns as the original but with the rows rearranged."
   ]
  },
  {
   "cell_type": "code",
   "execution_count": 5,
   "metadata": {
    "collapsed": false
   },
   "outputs": [
    {
     "data": {
      "text/html": [
       "<table border=\"1\" class=\"dataframe\">\n",
       "    <thead>\n",
       "        <tr>\n",
       "            <th>PLAYER</th> <th>POSITION</th> <th>TEAM</th> <th>SALARY</th>\n",
       "        </tr>\n",
       "    </thead>\n",
       "    <tbody>\n",
       "        <tr>\n",
       "            <td>Thanasis Antetokounmpo</td> <td>SF      </td> <td>New York Knicks     </td> <td>0.030888</td>\n",
       "        </tr>\n",
       "        <tr>\n",
       "            <td>Jordan McRae          </td> <td>SG      </td> <td>Phoenix Suns        </td> <td>0.049709</td>\n",
       "        </tr>\n",
       "        <tr>\n",
       "            <td>Cory Jefferson        </td> <td>PF      </td> <td>Phoenix Suns        </td> <td>0.049709</td>\n",
       "        </tr>\n",
       "        <tr>\n",
       "            <td>Elliot Williams       </td> <td>SG      </td> <td>Memphis Grizzlies   </td> <td>0.055722</td>\n",
       "        </tr>\n",
       "        <tr>\n",
       "            <td>Orlando Johnson       </td> <td>SG      </td> <td>Phoenix Suns        </td> <td>0.055722</td>\n",
       "        </tr>\n",
       "        <tr>\n",
       "            <td>Phil Pressey          </td> <td>PG      </td> <td>Phoenix Suns        </td> <td>0.055722</td>\n",
       "        </tr>\n",
       "        <tr>\n",
       "            <td>Keith Appling         </td> <td>PG      </td> <td>Orlando Magic       </td> <td>0.061776</td>\n",
       "        </tr>\n",
       "        <tr>\n",
       "            <td>Sean Kilpatrick       </td> <td>SG      </td> <td>Denver Nuggets      </td> <td>0.099418</td>\n",
       "        </tr>\n",
       "        <tr>\n",
       "            <td>Erick Green           </td> <td>PG      </td> <td>Utah Jazz           </td> <td>0.099418</td>\n",
       "        </tr>\n",
       "        <tr>\n",
       "            <td>Jeff Ayres            </td> <td>PF      </td> <td>Los Angeles Clippers</td> <td>0.111444</td>\n",
       "        </tr>\n",
       "    </tbody>\n",
       "</table>\n",
       "<p>... (407 rows omitted)</p>"
      ],
      "text/plain": [
       "PLAYER                 | POSITION | TEAM                 | SALARY\n",
       "Thanasis Antetokounmpo | SF       | New York Knicks      | 0.030888\n",
       "Jordan McRae           | SG       | Phoenix Suns         | 0.049709\n",
       "Cory Jefferson         | PF       | Phoenix Suns         | 0.049709\n",
       "Elliot Williams        | SG       | Memphis Grizzlies    | 0.055722\n",
       "Orlando Johnson        | SG       | Phoenix Suns         | 0.055722\n",
       "Phil Pressey           | PG       | Phoenix Suns         | 0.055722\n",
       "Keith Appling          | PG       | Orlando Magic        | 0.061776\n",
       "Sean Kilpatrick        | SG       | Denver Nuggets       | 0.099418\n",
       "Erick Green            | PG       | Utah Jazz            | 0.099418\n",
       "Jeff Ayres             | PF       | Los Angeles Clippers | 0.111444\n",
       "... (407 rows omitted)"
      ]
     },
     "execution_count": 5,
     "metadata": {},
     "output_type": "execute_result"
    }
   ],
   "source": [
    "nba = nba_salaries.relabeled(\"'15-'16 SALARY\", 'SALARY')\n",
    "nba.sort('SALARY')"
   ]
  },
  {
   "cell_type": "markdown",
   "metadata": {},
   "source": [
    "These figures are somewhat difficult to compare as some of these players changed teams during the season and received salaries from more than one team; only the salary from the last team appears in the table. Point Guard Phil Pressey, for example, moved from Philadelphia to Phoenix during the year, and might be moving yet again to the Golden State Warriors. \n",
    "\n",
    "The CNN report is about the other end of the salary scale – the players who are among the highest paid in the world. \n",
    "\n",
    "To order the rows of the table in *decreasing* order of salary, we must use `sort` with the option `descending=True`."
   ]
  },
  {
   "cell_type": "code",
   "execution_count": 6,
   "metadata": {
    "collapsed": false
   },
   "outputs": [
    {
     "data": {
      "text/html": [
       "<table border=\"1\" class=\"dataframe\">\n",
       "    <thead>\n",
       "        <tr>\n",
       "            <th>PLAYER</th> <th>POSITION</th> <th>TEAM</th> <th>SALARY</th>\n",
       "        </tr>\n",
       "    </thead>\n",
       "    <tbody>\n",
       "        <tr>\n",
       "            <td>Kobe Bryant    </td> <td>SF      </td> <td>Los Angeles Lakers   </td> <td>25     </td>\n",
       "        </tr>\n",
       "        <tr>\n",
       "            <td>Joe Johnson    </td> <td>SF      </td> <td>Brooklyn Nets        </td> <td>24.8949</td>\n",
       "        </tr>\n",
       "        <tr>\n",
       "            <td>LeBron James   </td> <td>SF      </td> <td>Cleveland Cavaliers  </td> <td>22.9705</td>\n",
       "        </tr>\n",
       "        <tr>\n",
       "            <td>Carmelo Anthony</td> <td>SF      </td> <td>New York Knicks      </td> <td>22.875 </td>\n",
       "        </tr>\n",
       "        <tr>\n",
       "            <td>Dwight Howard  </td> <td>C       </td> <td>Houston Rockets      </td> <td>22.3594</td>\n",
       "        </tr>\n",
       "        <tr>\n",
       "            <td>Chris Bosh     </td> <td>PF      </td> <td>Miami Heat           </td> <td>22.1927</td>\n",
       "        </tr>\n",
       "        <tr>\n",
       "            <td>Chris Paul     </td> <td>PG      </td> <td>Los Angeles Clippers </td> <td>21.4687</td>\n",
       "        </tr>\n",
       "        <tr>\n",
       "            <td>Kevin Durant   </td> <td>SF      </td> <td>Oklahoma City Thunder</td> <td>20.1586</td>\n",
       "        </tr>\n",
       "        <tr>\n",
       "            <td>Derrick Rose   </td> <td>PG      </td> <td>Chicago Bulls        </td> <td>20.0931</td>\n",
       "        </tr>\n",
       "        <tr>\n",
       "            <td>Dwyane Wade    </td> <td>SG      </td> <td>Miami Heat           </td> <td>20     </td>\n",
       "        </tr>\n",
       "    </tbody>\n",
       "</table>\n",
       "<p>... (407 rows omitted)</p>"
      ],
      "text/plain": [
       "PLAYER          | POSITION | TEAM                  | SALARY\n",
       "Kobe Bryant     | SF       | Los Angeles Lakers    | 25\n",
       "Joe Johnson     | SF       | Brooklyn Nets         | 24.8949\n",
       "LeBron James    | SF       | Cleveland Cavaliers   | 22.9705\n",
       "Carmelo Anthony | SF       | New York Knicks       | 22.875\n",
       "Dwight Howard   | C        | Houston Rockets       | 22.3594\n",
       "Chris Bosh      | PF       | Miami Heat            | 22.1927\n",
       "Chris Paul      | PG       | Los Angeles Clippers  | 21.4687\n",
       "Kevin Durant    | SF       | Oklahoma City Thunder | 20.1586\n",
       "Derrick Rose    | PG       | Chicago Bulls         | 20.0931\n",
       "Dwyane Wade     | SG       | Miami Heat            | 20\n",
       "... (407 rows omitted)"
      ]
     },
     "execution_count": 6,
     "metadata": {},
     "output_type": "execute_result"
    }
   ],
   "source": [
    "nba.sort('SALARY', descending=True)"
   ]
  },
  {
   "cell_type": "markdown",
   "metadata": {},
   "source": [
    "Kobe Bryant, in his final season with the Lakers, was the highest paid at a salary of $\\$25$ million. Notice that the MVP Stephen Curry doesn't appear among the top 10. He is quite a bit further down the list, as we will see later."
   ]
  },
  {
   "cell_type": "markdown",
   "metadata": {},
   "source": [
    "### Named Arguments\n",
    "\n",
    "The `descending=True` portion of this call expression is called a *named argument*. When a function or method is called, each argument has both a position and a name. Both are evident from the help text of a function or method."
   ]
  },
  {
   "cell_type": "code",
   "execution_count": 7,
   "metadata": {
    "collapsed": false
   },
   "outputs": [
    {
     "name": "stdout",
     "output_type": "stream",
     "text": [
      "Help on method sort in module datascience.tables:\n",
      "\n",
      "sort(column_or_label, descending=False, distinct=False) method of datascience.tables.Table instance\n",
      "    Return a Table of rows sorted according to the values in a column.\n",
      "    \n",
      "    Args:\n",
      "        ``column_or_label``: the column whose values are used for sorting.\n",
      "    \n",
      "        ``descending``: if True, sorting will be in descending, rather than\n",
      "            ascending order.\n",
      "    \n",
      "        ``distinct``: if True, repeated values in ``column_or_label`` will\n",
      "            be omitted.\n",
      "    \n",
      "    Returns:\n",
      "        An instance of ``Table`` containing rows sorted based on the values\n",
      "        in ``column_or_label``.\n",
      "    \n",
      "    >>> marbles = Table().with_columns(\n",
      "    ...    \"Color\", make_array(\"Red\", \"Green\", \"Blue\", \"Red\", \"Green\", \"Green\"),\n",
      "    ...    \"Shape\", make_array(\"Round\", \"Rectangular\", \"Rectangular\", \"Round\", \"Rectangular\", \"Round\"),\n",
      "    ...    \"Amount\", make_array(4, 6, 12, 7, 9, 2),\n",
      "    ...    \"Price\", make_array(1.30, 1.30, 2.00, 1.75, 1.40, 1.00))\n",
      "    >>> marbles\n",
      "    Color | Shape       | Amount | Price\n",
      "    Red   | Round       | 4      | 1.3\n",
      "    Green | Rectangular | 6      | 1.3\n",
      "    Blue  | Rectangular | 12     | 2\n",
      "    Red   | Round       | 7      | 1.75\n",
      "    Green | Rectangular | 9      | 1.4\n",
      "    Green | Round       | 2      | 1\n",
      "    >>> marbles.sort(\"Amount\")\n",
      "    Color | Shape       | Amount | Price\n",
      "    Green | Round       | 2      | 1\n",
      "    Red   | Round       | 4      | 1.3\n",
      "    Green | Rectangular | 6      | 1.3\n",
      "    Red   | Round       | 7      | 1.75\n",
      "    Green | Rectangular | 9      | 1.4\n",
      "    Blue  | Rectangular | 12     | 2\n",
      "    >>> marbles.sort(\"Amount\", descending = True)\n",
      "    Color | Shape       | Amount | Price\n",
      "    Blue  | Rectangular | 12     | 2\n",
      "    Green | Rectangular | 9      | 1.4\n",
      "    Red   | Round       | 7      | 1.75\n",
      "    Green | Rectangular | 6      | 1.3\n",
      "    Red   | Round       | 4      | 1.3\n",
      "    Green | Round       | 2      | 1\n",
      "    >>> marbles.sort(3) # the Price column\n",
      "    Color | Shape       | Amount | Price\n",
      "    Green | Round       | 2      | 1\n",
      "    Red   | Round       | 4      | 1.3\n",
      "    Green | Rectangular | 6      | 1.3\n",
      "    Green | Rectangular | 9      | 1.4\n",
      "    Red   | Round       | 7      | 1.75\n",
      "    Blue  | Rectangular | 12     | 2\n",
      "    >>> marbles.sort(3, distinct = True)\n",
      "    Color | Shape       | Amount | Price\n",
      "    Green | Round       | 2      | 1\n",
      "    Red   | Round       | 4      | 1.3\n",
      "    Green | Rectangular | 9      | 1.4\n",
      "    Red   | Round       | 7      | 1.75\n",
      "    Blue  | Rectangular | 12     | 2\n",
      "\n"
     ]
    }
   ],
   "source": [
    "help(nba.sort)"
   ]
  },
  {
   "cell_type": "markdown",
   "metadata": {},
   "source": [
    "At the very top of this `help` text, the *signature* of the `sort` method appears:\n",
    "\n",
    "    sort(column_or_label, descending=False, distinct=False)\n",
    "    \n",
    "This describes the positions, names, and default values of the three arguments to `sort`. When calling this method, you can use either positional arguments or named arguments, so the following three calls do exactly the same thing.\n",
    "\n",
    "    sort('SALARY', True)\n",
    "    sort('SALARY', descending=True)\n",
    "    sort(column_or_label='SALARY', descending=True)\n",
    "    \n",
    "When an argument is simply `True` or `False`, it's a useful convention to include the argument name so that it's more obvious what the argument value means."
   ]
  }
 ],
 "metadata": {
  "anaconda-cloud": {},
  "kernelspec": {
   "display_name": "Python 3",
   "language": "python",
   "name": "python3"
  },
  "language_info": {
   "codemirror_mode": {
    "name": "ipython",
    "version": 3
   },
   "file_extension": ".py",
   "mimetype": "text/x-python",
   "name": "python",
   "nbconvert_exporter": "python",
   "pygments_lexer": "ipython3",
   "version": "3.6.5"
  }
 },
 "nbformat": 4,
 "nbformat_minor": 2
}
