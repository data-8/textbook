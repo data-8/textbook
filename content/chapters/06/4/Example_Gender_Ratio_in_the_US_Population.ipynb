{
 "cells": [
  {
   "cell_type": "code",
   "execution_count": 1,
   "metadata": {
    "collapsed": false,
    "tags": [
     "remove_cell"
    ]
   },
   "outputs": [],
   "source": [
    "from datascience import *\n",
    "import numpy as np\n",
    "path_data = '../../../../data/'\n",
    "import matplotlib\n",
    "matplotlib.use('Agg', warn=False)\n",
    "%matplotlib inline\n",
    "import matplotlib.pyplot as plots\n",
    "plots.style.use('fivethirtyeight')\n",
    "\n",
    "import warnings\n",
    "warnings.simplefilter(action=\"ignore\", category=FutureWarning)"
   ]
  },
  {
   "cell_type": "code",
   "execution_count": 2,
   "metadata": {
    "collapsed": false,
    "tags": [
     "remove_cell"
    ]
   },
   "outputs": [],
   "source": [
    "# As of Jan 2017, this census file is online here: \n",
    "data = 'http://www2.census.gov/programs-surveys/popest/datasets/2010-2015/national/asrh/nc-est2015-agesex-res.csv'\n",
    "\n",
    "# A local copy can be accessed here in case census.gov moves the file:\n",
    "# data = path_data + 'nc-est2015-agesex-res.csv'\n",
    "\n",
    "full_census_table = Table.read_table(data)\n",
    "full_census_table\n",
    "\n",
    "partial_census_table = full_census_table.select('SEX', 'AGE', 'POPESTIMATE2010', 'POPESTIMATE2014')\n",
    "partial_census_table\n",
    "\n",
    "us_pop = partial_census_table.relabeled('POPESTIMATE2010', '2010').relabeled('POPESTIMATE2014', '2014')"
   ]
  },
  {
   "cell_type": "markdown",
   "metadata": {},
   "source": [
    "# Example: Trends in Gender\n",
    "\n",
    "We are now equipped with enough coding skills to examine features and trends in subgroups of the U.S. population. In this example, we will look at the distribution of males and females across age groups. We will continue using the `us_pop` table from the previous section."
   ]
  },
  {
   "cell_type": "code",
   "execution_count": 3,
   "metadata": {
    "collapsed": false
   },
   "outputs": [
    {
     "data": {
      "text/html": [
       "<table border=\"1\" class=\"dataframe\">\n",
       "    <thead>\n",
       "        <tr>\n",
       "            <th>SEX</th> <th>AGE</th> <th>2010</th> <th>2014</th>\n",
       "        </tr>\n",
       "    </thead>\n",
       "    <tbody>\n",
       "        <tr>\n",
       "            <td>0   </td> <td>0   </td> <td>3951330</td> <td>3949775</td>\n",
       "        </tr>\n",
       "        <tr>\n",
       "            <td>0   </td> <td>1   </td> <td>3957888</td> <td>3949776</td>\n",
       "        </tr>\n",
       "        <tr>\n",
       "            <td>0   </td> <td>2   </td> <td>4090862</td> <td>3959664</td>\n",
       "        </tr>\n",
       "        <tr>\n",
       "            <td>0   </td> <td>3   </td> <td>4111920</td> <td>4007079</td>\n",
       "        </tr>\n",
       "        <tr>\n",
       "            <td>0   </td> <td>4   </td> <td>4077551</td> <td>4005716</td>\n",
       "        </tr>\n",
       "        <tr>\n",
       "            <td>0   </td> <td>5   </td> <td>4064653</td> <td>4006900</td>\n",
       "        </tr>\n",
       "        <tr>\n",
       "            <td>0   </td> <td>6   </td> <td>4073013</td> <td>4135930</td>\n",
       "        </tr>\n",
       "        <tr>\n",
       "            <td>0   </td> <td>7   </td> <td>4043046</td> <td>4155326</td>\n",
       "        </tr>\n",
       "        <tr>\n",
       "            <td>0   </td> <td>8   </td> <td>4025604</td> <td>4120903</td>\n",
       "        </tr>\n",
       "        <tr>\n",
       "            <td>0   </td> <td>9   </td> <td>4125415</td> <td>4108349</td>\n",
       "        </tr>\n",
       "    </tbody>\n",
       "</table>\n",
       "<p>... (296 rows omitted)</p>"
      ],
      "text/plain": [
       "SEX  | AGE  | 2010    | 2014\n",
       "0    | 0    | 3951330 | 3949775\n",
       "0    | 1    | 3957888 | 3949776\n",
       "0    | 2    | 4090862 | 3959664\n",
       "0    | 3    | 4111920 | 4007079\n",
       "0    | 4    | 4077551 | 4005716\n",
       "0    | 5    | 4064653 | 4006900\n",
       "0    | 6    | 4073013 | 4135930\n",
       "0    | 7    | 4043046 | 4155326\n",
       "0    | 8    | 4025604 | 4120903\n",
       "0    | 9    | 4125415 | 4108349\n",
       "... (296 rows omitted)"
      ]
     },
     "execution_count": 3,
     "metadata": {},
     "output_type": "execute_result"
    }
   ],
   "source": [
    "us_pop"
   ]
  },
  {
   "cell_type": "markdown",
   "metadata": {},
   "source": [
    "As we know from having examined this dataset earlier, a [description of the table](http://www2.census.gov/programs-surveys/popest/datasets/2010-2015/national/asrh/nc-est2015-agesex-res.pdf) appears online. Here is a reminder of what the table contains. \n",
    "\n",
    "Each row represents an age group. The `SEX` column contains numeric codes: `0` stands for the total, `1` for male, and `2` for female. The `AGE` column contains ages in completed years, but the special value `999` represents the entire population regardless of age. The rest of the columns contain estimates of the US population."
   ]
  },
  {
   "cell_type": "markdown",
   "metadata": {},
   "source": [
    "### Understanding `AGE` = 100 ###\n",
    "As a preliminary, let's interpret data in the final age category in the table, where `AGE` is 100. The code below extracts the rows for the combined group of men and women (`SEX` code 0) for the highest ages."
   ]
  },
  {
   "cell_type": "code",
   "execution_count": 4,
   "metadata": {
    "collapsed": false
   },
   "outputs": [
    {
     "data": {
      "text/html": [
       "<table border=\"1\" class=\"dataframe\">\n",
       "    <thead>\n",
       "        <tr>\n",
       "            <th>SEX</th> <th>AGE</th> <th>2010</th> <th>2014</th>\n",
       "        </tr>\n",
       "    </thead>\n",
       "    <tbody>\n",
       "        <tr>\n",
       "            <td>0   </td> <td>97  </td> <td>68893</td> <td>83089</td>\n",
       "        </tr>\n",
       "        <tr>\n",
       "            <td>0   </td> <td>98  </td> <td>47037</td> <td>59726</td>\n",
       "        </tr>\n",
       "        <tr>\n",
       "            <td>0   </td> <td>99  </td> <td>32178</td> <td>41468</td>\n",
       "        </tr>\n",
       "        <tr>\n",
       "            <td>0   </td> <td>100 </td> <td>54410</td> <td>71626</td>\n",
       "        </tr>\n",
       "    </tbody>\n",
       "</table>"
      ],
      "text/plain": [
       "SEX  | AGE  | 2010  | 2014\n",
       "0    | 97   | 68893 | 83089\n",
       "0    | 98   | 47037 | 59726\n",
       "0    | 99   | 32178 | 41468\n",
       "0    | 100  | 54410 | 71626"
      ]
     },
     "execution_count": 4,
     "metadata": {},
     "output_type": "execute_result"
    }
   ],
   "source": [
    "us_pop.where('SEX', are.equal_to(0)).where('AGE', are.between(97, 101))"
   ]
  },
  {
   "cell_type": "markdown",
   "metadata": {},
   "source": [
    "Not surprisingly, the numbers of people are smaller at higher ages – for example, there are fewer 99-year-olds than 98-year-olds. \n",
    "\n",
    "It does come as a surprise, though, that the numbers for `AGE` 100 are quite a bit larger than those for age 99. A closer examination of the documentation shows that it's because the Census Bureau used 100 as the code for everyone aged 100 or more. \n",
    "\n",
    "The row with `AGE` 100 doesn't just represent 100-year-olds – it also includes those who are older than 100. That is why the numbers in that row are larger than in the row for the 99-year-olds."
   ]
  },
  {
   "cell_type": "markdown",
   "metadata": {},
   "source": [
    "### Overall Proportions of Males and Females ###\n",
    "We will now begin looking at gender ratios in 2014. First, let's look at all the age groups together. Remember that this means looking at the rows where the \"age\" is coded 999. The table `all_ages` contains this information. There are three rows: one for the total of both genders, one for males (`SEX` code 1), and one for females (`SEX` code 2)."
   ]
  },
  {
   "cell_type": "code",
   "execution_count": 5,
   "metadata": {
    "collapsed": false
   },
   "outputs": [
    {
     "data": {
      "text/html": [
       "<table border=\"1\" class=\"dataframe\">\n",
       "    <thead>\n",
       "        <tr>\n",
       "            <th>SEX</th> <th>AGE</th> <th>2014</th>\n",
       "        </tr>\n",
       "    </thead>\n",
       "    <tbody>\n",
       "        <tr>\n",
       "            <td>0   </td> <td>999 </td> <td>318907401</td>\n",
       "        </tr>\n",
       "        <tr>\n",
       "            <td>1   </td> <td>999 </td> <td>156955337</td>\n",
       "        </tr>\n",
       "        <tr>\n",
       "            <td>2   </td> <td>999 </td> <td>161952064</td>\n",
       "        </tr>\n",
       "    </tbody>\n",
       "</table>"
      ],
      "text/plain": [
       "SEX  | AGE  | 2014\n",
       "0    | 999  | 318907401\n",
       "1    | 999  | 156955337\n",
       "2    | 999  | 161952064"
      ]
     },
     "execution_count": 5,
     "metadata": {},
     "output_type": "execute_result"
    }
   ],
   "source": [
    "us_pop_2014 = us_pop.drop('2010')\n",
    "all_ages = us_pop_2014.where('AGE', are.equal_to(999))\n",
    "all_ages"
   ]
  },
  {
   "cell_type": "markdown",
   "metadata": {},
   "source": [
    "Row 0 of `all_ages` contains the total U.S. population in each of the two years. The United States had just under 319 million in 2014.\n",
    "\n",
    "Row 1 contains the counts for males and Row 2 for females. Compare these two rows to see that in 2014, there were more females than males in the United States. \n",
    "\n",
    "The population counts in Row 1 and Row 2 add up to the total population in Row 0. \n",
    "\n",
    "For comparability with other quantities, we will need to convert these counts to percents out of the total population. Let's access the total for 2014 and name it. Then, we'll show a population table with a proportion column. Consistent with our earlier observation that there were more females than males, about 50.8% of the population in 2014 was female and about 49.2% male in each of the two years. "
   ]
  },
  {
   "cell_type": "code",
   "execution_count": 6,
   "metadata": {
    "collapsed": false
   },
   "outputs": [
    {
     "data": {
      "text/html": [
       "<table border=\"1\" class=\"dataframe\">\n",
       "    <thead>\n",
       "        <tr>\n",
       "            <th>SEX</th> <th>AGE</th> <th>2014</th> <th>Proportion</th>\n",
       "        </tr>\n",
       "    </thead>\n",
       "    <tbody>\n",
       "        <tr>\n",
       "            <td>0   </td> <td>999 </td> <td>318907401</td> <td>100.00%   </td>\n",
       "        </tr>\n",
       "        <tr>\n",
       "            <td>1   </td> <td>999 </td> <td>156955337</td> <td>49.22%    </td>\n",
       "        </tr>\n",
       "        <tr>\n",
       "            <td>2   </td> <td>999 </td> <td>161952064</td> <td>50.78%    </td>\n",
       "        </tr>\n",
       "    </tbody>\n",
       "</table>"
      ],
      "text/plain": [
       "SEX  | AGE  | 2014      | Proportion\n",
       "0    | 999  | 318907401 | 100.00%\n",
       "1    | 999  | 156955337 | 49.22%\n",
       "2    | 999  | 161952064 | 50.78%"
      ]
     },
     "execution_count": 6,
     "metadata": {},
     "output_type": "execute_result"
    }
   ],
   "source": [
    "pop_2014 = all_ages.column('2014').item(0)\n",
    "all_ages.with_column(\n",
    "    'Proportion', all_ages.column('2014')/pop_2014\n",
    ").set_format('Proportion', PercentFormatter)"
   ]
  },
  {
   "cell_type": "markdown",
   "metadata": {},
   "source": [
    "### Proportions of Boys and Girls among Infants"
   ]
  },
  {
   "cell_type": "markdown",
   "metadata": {},
   "source": [
    "When we look at infants, however, the opposite is true. Let's define infants to be babies who have not yet completed one year, represented in the row corresponding to `AGE` 0. Here are their numbers in the population. You can see that male infants outnumbered female infants."
   ]
  },
  {
   "cell_type": "code",
   "execution_count": 7,
   "metadata": {
    "collapsed": false
   },
   "outputs": [
    {
     "data": {
      "text/html": [
       "<table border=\"1\" class=\"dataframe\">\n",
       "    <thead>\n",
       "        <tr>\n",
       "            <th>SEX</th> <th>AGE</th> <th>2014</th>\n",
       "        </tr>\n",
       "    </thead>\n",
       "    <tbody>\n",
       "        <tr>\n",
       "            <td>0   </td> <td>0   </td> <td>3949775</td>\n",
       "        </tr>\n",
       "        <tr>\n",
       "            <td>1   </td> <td>0   </td> <td>2020326</td>\n",
       "        </tr>\n",
       "        <tr>\n",
       "            <td>2   </td> <td>0   </td> <td>1929449</td>\n",
       "        </tr>\n",
       "    </tbody>\n",
       "</table>"
      ],
      "text/plain": [
       "SEX  | AGE  | 2014\n",
       "0    | 0    | 3949775\n",
       "1    | 0    | 2020326\n",
       "2    | 0    | 1929449"
      ]
     },
     "execution_count": 7,
     "metadata": {},
     "output_type": "execute_result"
    }
   ],
   "source": [
    "infants = us_pop_2014.where('AGE', are.equal_to(0))\n",
    "infants"
   ]
  },
  {
   "cell_type": "markdown",
   "metadata": {},
   "source": [
    "As before, we can convert these counts to percents out of the total numbers of infants. The resulting table shows that in 2014, just over 51% of infants in the U.S. were male. "
   ]
  },
  {
   "cell_type": "code",
   "execution_count": 8,
   "metadata": {
    "collapsed": false
   },
   "outputs": [
    {
     "data": {
      "text/html": [
       "<table border=\"1\" class=\"dataframe\">\n",
       "    <thead>\n",
       "        <tr>\n",
       "            <th>SEX</th> <th>AGE</th> <th>2014</th> <th>Proportion</th>\n",
       "        </tr>\n",
       "    </thead>\n",
       "    <tbody>\n",
       "        <tr>\n",
       "            <td>0   </td> <td>0   </td> <td>3949775</td> <td>100.00%   </td>\n",
       "        </tr>\n",
       "        <tr>\n",
       "            <td>1   </td> <td>0   </td> <td>2020326</td> <td>51.15%    </td>\n",
       "        </tr>\n",
       "        <tr>\n",
       "            <td>2   </td> <td>0   </td> <td>1929449</td> <td>48.85%    </td>\n",
       "        </tr>\n",
       "    </tbody>\n",
       "</table>"
      ],
      "text/plain": [
       "SEX  | AGE  | 2014    | Proportion\n",
       "0    | 0    | 3949775 | 100.00%\n",
       "1    | 0    | 2020326 | 51.15%\n",
       "2    | 0    | 1929449 | 48.85%"
      ]
     },
     "execution_count": 8,
     "metadata": {},
     "output_type": "execute_result"
    }
   ],
   "source": [
    "infants_2014 = infants.column('2014').item(0)\n",
    "infants.with_column(\n",
    "    'Proportion', infants.column('2014')/infants_2014\n",
    ").set_format('Proportion', PercentFormatter)"
   ]
  },
  {
   "cell_type": "markdown",
   "metadata": {},
   "source": [
    "In fact, it has long been observed that the proportion of boys among newborns is slightly more than 1/2. The reason for this is not thoroughly understood, and [scientists are still working on it](http://www.npr.org/sections/health-shots/2015/03/30/396384911/why-are-more-baby-boys-born-than-girls)."
   ]
  },
  {
   "cell_type": "markdown",
   "metadata": {},
   "source": [
    "### Female:Male Gender Ratio at Each Age ###"
   ]
  },
  {
   "cell_type": "markdown",
   "metadata": {},
   "source": [
    "We have seen that while there are more baby boys than baby girls, there are more females than males overall. So it's clear that the split between genders must vary across age groups.\n",
    "\n",
    "To study this variation, we will separate out the data for the females and the males, and eliminate the row where all the ages are aggregated and `AGE` is coded as 999.\n",
    "\n",
    "The tables `females` and `males` contain the data for each the two genders."
   ]
  },
  {
   "cell_type": "code",
   "execution_count": 9,
   "metadata": {
    "collapsed": false
   },
   "outputs": [
    {
     "data": {
      "text/html": [
       "<table border=\"1\" class=\"dataframe\">\n",
       "    <thead>\n",
       "        <tr>\n",
       "            <th>SEX</th> <th>AGE</th> <th>2014</th>\n",
       "        </tr>\n",
       "    </thead>\n",
       "    <tbody>\n",
       "        <tr>\n",
       "            <td>2   </td> <td>0   </td> <td>1929449</td>\n",
       "        </tr>\n",
       "        <tr>\n",
       "            <td>2   </td> <td>1   </td> <td>1931375</td>\n",
       "        </tr>\n",
       "        <tr>\n",
       "            <td>2   </td> <td>2   </td> <td>1935991</td>\n",
       "        </tr>\n",
       "        <tr>\n",
       "            <td>2   </td> <td>3   </td> <td>1957483</td>\n",
       "        </tr>\n",
       "        <tr>\n",
       "            <td>2   </td> <td>4   </td> <td>1961199</td>\n",
       "        </tr>\n",
       "        <tr>\n",
       "            <td>2   </td> <td>5   </td> <td>1962561</td>\n",
       "        </tr>\n",
       "        <tr>\n",
       "            <td>2   </td> <td>6   </td> <td>2024870</td>\n",
       "        </tr>\n",
       "        <tr>\n",
       "            <td>2   </td> <td>7   </td> <td>2032494</td>\n",
       "        </tr>\n",
       "        <tr>\n",
       "            <td>2   </td> <td>8   </td> <td>2015285</td>\n",
       "        </tr>\n",
       "        <tr>\n",
       "            <td>2   </td> <td>9   </td> <td>2010659</td>\n",
       "        </tr>\n",
       "    </tbody>\n",
       "</table>\n",
       "<p>... (91 rows omitted)</p>"
      ],
      "text/plain": [
       "SEX  | AGE  | 2014\n",
       "2    | 0    | 1929449\n",
       "2    | 1    | 1931375\n",
       "2    | 2    | 1935991\n",
       "2    | 3    | 1957483\n",
       "2    | 4    | 1961199\n",
       "2    | 5    | 1962561\n",
       "2    | 6    | 2024870\n",
       "2    | 7    | 2032494\n",
       "2    | 8    | 2015285\n",
       "2    | 9    | 2010659\n",
       "... (91 rows omitted)"
      ]
     },
     "execution_count": 9,
     "metadata": {},
     "output_type": "execute_result"
    }
   ],
   "source": [
    "females_all_rows = us_pop_2014.where('SEX', are.equal_to(2))\n",
    "females = females_all_rows.where('AGE', are.not_equal_to(999))\n",
    "females"
   ]
  },
  {
   "cell_type": "code",
   "execution_count": 10,
   "metadata": {
    "collapsed": false
   },
   "outputs": [
    {
     "data": {
      "text/html": [
       "<table border=\"1\" class=\"dataframe\">\n",
       "    <thead>\n",
       "        <tr>\n",
       "            <th>SEX</th> <th>AGE</th> <th>2014</th>\n",
       "        </tr>\n",
       "    </thead>\n",
       "    <tbody>\n",
       "        <tr>\n",
       "            <td>1   </td> <td>0   </td> <td>2020326</td>\n",
       "        </tr>\n",
       "        <tr>\n",
       "            <td>1   </td> <td>1   </td> <td>2018401</td>\n",
       "        </tr>\n",
       "        <tr>\n",
       "            <td>1   </td> <td>2   </td> <td>2023673</td>\n",
       "        </tr>\n",
       "        <tr>\n",
       "            <td>1   </td> <td>3   </td> <td>2049596</td>\n",
       "        </tr>\n",
       "        <tr>\n",
       "            <td>1   </td> <td>4   </td> <td>2044517</td>\n",
       "        </tr>\n",
       "        <tr>\n",
       "            <td>1   </td> <td>5   </td> <td>2044339</td>\n",
       "        </tr>\n",
       "        <tr>\n",
       "            <td>1   </td> <td>6   </td> <td>2111060</td>\n",
       "        </tr>\n",
       "        <tr>\n",
       "            <td>1   </td> <td>7   </td> <td>2122832</td>\n",
       "        </tr>\n",
       "        <tr>\n",
       "            <td>1   </td> <td>8   </td> <td>2105618</td>\n",
       "        </tr>\n",
       "        <tr>\n",
       "            <td>1   </td> <td>9   </td> <td>2097690</td>\n",
       "        </tr>\n",
       "    </tbody>\n",
       "</table>\n",
       "<p>... (91 rows omitted)</p>"
      ],
      "text/plain": [
       "SEX  | AGE  | 2014\n",
       "1    | 0    | 2020326\n",
       "1    | 1    | 2018401\n",
       "1    | 2    | 2023673\n",
       "1    | 3    | 2049596\n",
       "1    | 4    | 2044517\n",
       "1    | 5    | 2044339\n",
       "1    | 6    | 2111060\n",
       "1    | 7    | 2122832\n",
       "1    | 8    | 2105618\n",
       "1    | 9    | 2097690\n",
       "... (91 rows omitted)"
      ]
     },
     "execution_count": 10,
     "metadata": {},
     "output_type": "execute_result"
    }
   ],
   "source": [
    "males_all_rows = us_pop_2014.where('SEX', are.equal_to(1))\n",
    "males = males_all_rows.where('AGE', are.not_equal_to(999))\n",
    "males"
   ]
  },
  {
   "cell_type": "markdown",
   "metadata": {},
   "source": [
    "The plan now is to compare the number of women and the number of men at each age, for each of the two years. Array and Table methods give us straightforward ways to do this. Both of these tables have one row for each age."
   ]
  },
  {
   "cell_type": "code",
   "execution_count": 11,
   "metadata": {
    "collapsed": false
   },
   "outputs": [
    {
     "data": {
      "text/plain": [
       "array([  0,   1,   2,   3,   4,   5,   6,   7,   8,   9,  10,  11,  12,\n",
       "        13,  14,  15,  16,  17,  18,  19,  20,  21,  22,  23,  24,  25,\n",
       "        26,  27,  28,  29,  30,  31,  32,  33,  34,  35,  36,  37,  38,\n",
       "        39,  40,  41,  42,  43,  44,  45,  46,  47,  48,  49,  50,  51,\n",
       "        52,  53,  54,  55,  56,  57,  58,  59,  60,  61,  62,  63,  64,\n",
       "        65,  66,  67,  68,  69,  70,  71,  72,  73,  74,  75,  76,  77,\n",
       "        78,  79,  80,  81,  82,  83,  84,  85,  86,  87,  88,  89,  90,\n",
       "        91,  92,  93,  94,  95,  96,  97,  98,  99, 100])"
      ]
     },
     "execution_count": 11,
     "metadata": {},
     "output_type": "execute_result"
    }
   ],
   "source": [
    "males.column('AGE')"
   ]
  },
  {
   "cell_type": "code",
   "execution_count": 12,
   "metadata": {
    "collapsed": false
   },
   "outputs": [
    {
     "data": {
      "text/plain": [
       "array([  0,   1,   2,   3,   4,   5,   6,   7,   8,   9,  10,  11,  12,\n",
       "        13,  14,  15,  16,  17,  18,  19,  20,  21,  22,  23,  24,  25,\n",
       "        26,  27,  28,  29,  30,  31,  32,  33,  34,  35,  36,  37,  38,\n",
       "        39,  40,  41,  42,  43,  44,  45,  46,  47,  48,  49,  50,  51,\n",
       "        52,  53,  54,  55,  56,  57,  58,  59,  60,  61,  62,  63,  64,\n",
       "        65,  66,  67,  68,  69,  70,  71,  72,  73,  74,  75,  76,  77,\n",
       "        78,  79,  80,  81,  82,  83,  84,  85,  86,  87,  88,  89,  90,\n",
       "        91,  92,  93,  94,  95,  96,  97,  98,  99, 100])"
      ]
     },
     "execution_count": 12,
     "metadata": {},
     "output_type": "execute_result"
    }
   ],
   "source": [
    "females.column('AGE')"
   ]
  },
  {
   "cell_type": "markdown",
   "metadata": {},
   "source": [
    "For any given age, we can get the Female:Male gender ratio by dividing the number of females by the number of males. To do this in one step, we can use `column` to extract the array of female counts and the corresponding array of male counts, and then simply divide one array by the other. Elementwise division will create an array of gender ratios for all the years."
   ]
  },
  {
   "cell_type": "code",
   "execution_count": 13,
   "metadata": {
    "collapsed": false
   },
   "outputs": [
    {
     "data": {
      "text/html": [
       "<table border=\"1\" class=\"dataframe\">\n",
       "    <thead>\n",
       "        <tr>\n",
       "            <th>AGE</th> <th>2014 F:M RATIO</th>\n",
       "        </tr>\n",
       "    </thead>\n",
       "    <tbody>\n",
       "        <tr>\n",
       "            <td>0   </td> <td>0.955019      </td>\n",
       "        </tr>\n",
       "        <tr>\n",
       "            <td>1   </td> <td>0.956884      </td>\n",
       "        </tr>\n",
       "        <tr>\n",
       "            <td>2   </td> <td>0.956672      </td>\n",
       "        </tr>\n",
       "        <tr>\n",
       "            <td>3   </td> <td>0.955058      </td>\n",
       "        </tr>\n",
       "        <tr>\n",
       "            <td>4   </td> <td>0.959248      </td>\n",
       "        </tr>\n",
       "        <tr>\n",
       "            <td>5   </td> <td>0.959998      </td>\n",
       "        </tr>\n",
       "        <tr>\n",
       "            <td>6   </td> <td>0.959172      </td>\n",
       "        </tr>\n",
       "        <tr>\n",
       "            <td>7   </td> <td>0.957445      </td>\n",
       "        </tr>\n",
       "        <tr>\n",
       "            <td>8   </td> <td>0.957099      </td>\n",
       "        </tr>\n",
       "        <tr>\n",
       "            <td>9   </td> <td>0.958511      </td>\n",
       "        </tr>\n",
       "    </tbody>\n",
       "</table>\n",
       "<p>... (91 rows omitted)</p>"
      ],
      "text/plain": [
       "AGE  | 2014 F:M RATIO\n",
       "0    | 0.955019\n",
       "1    | 0.956884\n",
       "2    | 0.956672\n",
       "3    | 0.955058\n",
       "4    | 0.959248\n",
       "5    | 0.959998\n",
       "6    | 0.959172\n",
       "7    | 0.957445\n",
       "8    | 0.957099\n",
       "9    | 0.958511\n",
       "... (91 rows omitted)"
      ]
     },
     "execution_count": 13,
     "metadata": {},
     "output_type": "execute_result"
    }
   ],
   "source": [
    "ratios = Table().with_columns(\n",
    "    'AGE', females.column('AGE'),\n",
    "    '2014 F:M RATIO', females.column('2014')/males.column('2014')\n",
    ")\n",
    "ratios"
   ]
  },
  {
   "cell_type": "markdown",
   "metadata": {},
   "source": [
    "You can see from the display that the ratios are all around 0.96 for children aged nine or younger. When the Female:Male ratio is less than 1, there are fewer females than males. Thus what we are seeing is that there were fewer girls than boys in each of the age groups 0, 1, 2, and so on through 9. Moreover, in each of these age groups, there were about 96 girls for every 100 boys."
   ]
  },
  {
   "cell_type": "markdown",
   "metadata": {},
   "source": [
    "So how can the overall proportion of females in the population be higher than the males? \n",
    "\n",
    "Something extraordinary happens when we examine the other end of the age range. Here are the Female:Male ratios for people aged more than 75."
   ]
  },
  {
   "cell_type": "code",
   "execution_count": 14,
   "metadata": {
    "collapsed": false
   },
   "outputs": [
    {
     "data": {
      "text/html": [
       "<table border=\"1\" class=\"dataframe\">\n",
       "    <thead>\n",
       "        <tr>\n",
       "            <th>AGE</th> <th>2014 F:M RATIO</th>\n",
       "        </tr>\n",
       "    </thead>\n",
       "    <tbody>\n",
       "        <tr>\n",
       "            <td>76  </td> <td>1.23487       </td>\n",
       "        </tr>\n",
       "        <tr>\n",
       "            <td>77  </td> <td>1.25797       </td>\n",
       "        </tr>\n",
       "        <tr>\n",
       "            <td>78  </td> <td>1.28244       </td>\n",
       "        </tr>\n",
       "        <tr>\n",
       "            <td>79  </td> <td>1.31627       </td>\n",
       "        </tr>\n",
       "        <tr>\n",
       "            <td>80  </td> <td>1.34138       </td>\n",
       "        </tr>\n",
       "        <tr>\n",
       "            <td>81  </td> <td>1.37967       </td>\n",
       "        </tr>\n",
       "        <tr>\n",
       "            <td>82  </td> <td>1.41932       </td>\n",
       "        </tr>\n",
       "        <tr>\n",
       "            <td>83  </td> <td>1.46552       </td>\n",
       "        </tr>\n",
       "        <tr>\n",
       "            <td>84  </td> <td>1.52048       </td>\n",
       "        </tr>\n",
       "        <tr>\n",
       "            <td>85  </td> <td>1.5756        </td>\n",
       "        </tr>\n",
       "        <tr>\n",
       "            <td>86  </td> <td>1.65096       </td>\n",
       "        </tr>\n",
       "        <tr>\n",
       "            <td>87  </td> <td>1.72172       </td>\n",
       "        </tr>\n",
       "        <tr>\n",
       "            <td>88  </td> <td>1.81223       </td>\n",
       "        </tr>\n",
       "        <tr>\n",
       "            <td>89  </td> <td>1.91837       </td>\n",
       "        </tr>\n",
       "        <tr>\n",
       "            <td>90  </td> <td>2.01263       </td>\n",
       "        </tr>\n",
       "        <tr>\n",
       "            <td>91  </td> <td>2.09488       </td>\n",
       "        </tr>\n",
       "        <tr>\n",
       "            <td>92  </td> <td>2.2299        </td>\n",
       "        </tr>\n",
       "        <tr>\n",
       "            <td>93  </td> <td>2.33359       </td>\n",
       "        </tr>\n",
       "        <tr>\n",
       "            <td>94  </td> <td>2.52285       </td>\n",
       "        </tr>\n",
       "        <tr>\n",
       "            <td>95  </td> <td>2.67253       </td>\n",
       "        </tr>\n",
       "        <tr>\n",
       "            <td>96  </td> <td>2.87998       </td>\n",
       "        </tr>\n",
       "        <tr>\n",
       "            <td>97  </td> <td>3.09104       </td>\n",
       "        </tr>\n",
       "        <tr>\n",
       "            <td>98  </td> <td>3.41826       </td>\n",
       "        </tr>\n",
       "        <tr>\n",
       "            <td>99  </td> <td>3.63278       </td>\n",
       "        </tr>\n",
       "        <tr>\n",
       "            <td>100 </td> <td>4.25966       </td>\n",
       "        </tr>\n",
       "    </tbody>\n",
       "</table>"
      ],
      "text/plain": [
       "<IPython.core.display.HTML object>"
      ]
     },
     "metadata": {},
     "output_type": "display_data"
    }
   ],
   "source": [
    "ratios.where('AGE', are.above(75)).show()"
   ]
  },
  {
   "cell_type": "markdown",
   "metadata": {},
   "source": [
    "Not only are all of these ratios greater than 1, signifying more women than men in all of these age groups, many of them are considerably greater than 1. \n",
    "\n",
    "- At ages 89 and 90 the ratios are close to 2, meaning that there were about twice as many women as men at those ages in 2014.\n",
    "- At ages 98 and 99, there were about 3.5 to 4 times as many women as men. \n",
    "\n",
    "If you are wondering how many people there were at these advanced ages, you can use Python to find out:"
   ]
  },
  {
   "cell_type": "code",
   "execution_count": 15,
   "metadata": {
    "collapsed": false
   },
   "outputs": [
    {
     "data": {
      "text/html": [
       "<table border=\"1\" class=\"dataframe\">\n",
       "    <thead>\n",
       "        <tr>\n",
       "            <th>SEX</th> <th>AGE</th> <th>2014</th>\n",
       "        </tr>\n",
       "    </thead>\n",
       "    <tbody>\n",
       "        <tr>\n",
       "            <td>1   </td> <td>98  </td> <td>13518</td>\n",
       "        </tr>\n",
       "        <tr>\n",
       "            <td>1   </td> <td>99  </td> <td>8951 </td>\n",
       "        </tr>\n",
       "    </tbody>\n",
       "</table>"
      ],
      "text/plain": [
       "SEX  | AGE  | 2014\n",
       "1    | 98   | 13518\n",
       "1    | 99   | 8951"
      ]
     },
     "execution_count": 15,
     "metadata": {},
     "output_type": "execute_result"
    }
   ],
   "source": [
    "males.where('AGE', are.between(98, 100))"
   ]
  },
  {
   "cell_type": "code",
   "execution_count": 16,
   "metadata": {
    "collapsed": false
   },
   "outputs": [
    {
     "data": {
      "text/html": [
       "<table border=\"1\" class=\"dataframe\">\n",
       "    <thead>\n",
       "        <tr>\n",
       "            <th>SEX</th> <th>AGE</th> <th>2014</th>\n",
       "        </tr>\n",
       "    </thead>\n",
       "    <tbody>\n",
       "        <tr>\n",
       "            <td>2   </td> <td>98  </td> <td>46208</td>\n",
       "        </tr>\n",
       "        <tr>\n",
       "            <td>2   </td> <td>99  </td> <td>32517</td>\n",
       "        </tr>\n",
       "    </tbody>\n",
       "</table>"
      ],
      "text/plain": [
       "SEX  | AGE  | 2014\n",
       "2    | 98   | 46208\n",
       "2    | 99   | 32517"
      ]
     },
     "execution_count": 16,
     "metadata": {},
     "output_type": "execute_result"
    }
   ],
   "source": [
    "females.where('AGE', are.between(98, 100))"
   ]
  },
  {
   "cell_type": "markdown",
   "metadata": {},
   "source": [
    "The graph below shows the gender ratios plotted against age. The blue curve shows the 2014 ratio by age.\n",
    "\n",
    "The ratios are almost 1 (signifying close to equal numbers of males and females) for ages 0 through 60, but they start shooting up dramatically (more females than males) starting at about age 65.\n",
    "\n",
    "That females outnumber males in the U.S. is partly due to the marked gender imbalance in favor of women among senior citizens."
   ]
  },
  {
   "cell_type": "code",
   "execution_count": 17,
   "metadata": {
    "collapsed": false
   },
   "outputs": [
    {
     "data": {
      "image/png": "[encoded data removed]",
      "text/plain": [
       "<Figure size 432x288 with 1 Axes>"
      ]
     },
     "metadata": {},
     "output_type": "display_data"
    }
   ],
   "source": [
    "ratios.plot('AGE')"
   ]
  }
 ],
 "metadata": {
  "anaconda-cloud": {},
  "kernelspec": {
   "display_name": "Python 3",
   "language": "python",
   "name": "python3"
  },
  "language_info": {
   "codemirror_mode": {
    "name": "ipython",
    "version": 3
   },
   "file_extension": ".py",
   "mimetype": "text/x-python",
   "name": "python",
   "nbconvert_exporter": "python",
   "pygments_lexer": "ipython3",
   "version": "3.6.5"
  }
 },
 "nbformat": 4,
 "nbformat_minor": 2
}
